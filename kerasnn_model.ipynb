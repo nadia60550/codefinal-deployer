{
 "cells": [
  {
   "cell_type": "code",
   "execution_count": 1,
   "id": "0ed3a362",
   "metadata": {},
   "outputs": [],
   "source": [
    "# Import Python libraries\n",
    "import joblib\n",
    "import numpy as np\n",
    "import pandas as pd\n",
    "from ast import literal_eval\n",
    "from sklearn.feature_extraction.text import TfidfVectorizer\n",
    "from sklearn.preprocessing import MultiLabelBinarizer\n",
    "from sklearn.naive_bayes import MultinomialNB\n",
    "from sklearn.linear_model import Perceptron\n",
    "from sklearn.neural_network import MLPClassifier\n",
    "from sklearn import model_selection\n",
    "from sklearn.model_selection import train_test_split\n",
    "#RNN\n",
    "from keras.wrappers.scikit_learn import KerasClassifier\n",
    "from keras.models import Sequential\n",
    "from keras import layers\n",
    "from keras.backend import clear_session\n",
    "from keras import backend as K\n",
    "\n",
    "# Library for PEP8 standard\n",
    "from nbpep8.nbpep8 import pep8"
   ]
  },
  {
   "cell_type": "code",
   "execution_count": 2,
   "id": "61f307df",
   "metadata": {},
   "outputs": [
    {
     "data": {
      "text/html": [
       "<div>\n",
       "<style scoped>\n",
       "    .dataframe tbody tr th:only-of-type {\n",
       "        vertical-align: middle;\n",
       "    }\n",
       "\n",
       "    .dataframe tbody tr th {\n",
       "        vertical-align: top;\n",
       "    }\n",
       "\n",
       "    .dataframe thead th {\n",
       "        text-align: right;\n",
       "    }\n",
       "</style>\n",
       "<table border=\"1\" class=\"dataframe\">\n",
       "  <thead>\n",
       "    <tr style=\"text-align: right;\">\n",
       "      <th></th>\n",
       "      <th>Title</th>\n",
       "      <th>Body</th>\n",
       "      <th>Tags_list</th>\n",
       "    </tr>\n",
       "    <tr>\n",
       "      <th>Id</th>\n",
       "      <th></th>\n",
       "      <th></th>\n",
       "      <th></th>\n",
       "    </tr>\n",
       "  </thead>\n",
       "  <tbody>\n",
       "    <tr>\n",
       "      <th>3321007</th>\n",
       "      <td>[android, netbeans]</td>\n",
       "      <td>[net, bean, hand, android, apps, android, sdk,...</td>\n",
       "      <td>[android]</td>\n",
       "    </tr>\n",
       "    <tr>\n",
       "      <th>3321011</th>\n",
       "      <td>[xl, xlsx, excel, file, ruby]</td>\n",
       "      <td>[gem, xl, xlsx, file, spreadsheet, parseexcel,...</td>\n",
       "      <td>[ruby, excel]</td>\n",
       "    </tr>\n",
       "    <tr>\n",
       "      <th>3321029</th>\n",
       "      <td>[python, inheritance, tree, run, time]</td>\n",
       "      <td>[serialization, deserialization, code, python,...</td>\n",
       "      <td>[python]</td>\n",
       "    </tr>\n",
       "    <tr>\n",
       "      <th>3321039</th>\n",
       "      <td>[android, market, work, developer]</td>\n",
       "      <td>[quetions, license, application, profit, sale,...</td>\n",
       "      <td>[android]</td>\n",
       "    </tr>\n",
       "    <tr>\n",
       "      <th>3321082</th>\n",
       "      <td>[excel, datatable, xml]</td>\n",
       "      <td>[visual, studio, excel, sheet, open, xml, sdk,...</td>\n",
       "      <td>[c#]</td>\n",
       "    </tr>\n",
       "  </tbody>\n",
       "</table>\n",
       "</div>"
      ],
      "text/plain": [
       "                                          Title  \\\n",
       "Id                                                \n",
       "3321007                     [android, netbeans]   \n",
       "3321011           [xl, xlsx, excel, file, ruby]   \n",
       "3321029  [python, inheritance, tree, run, time]   \n",
       "3321039      [android, market, work, developer]   \n",
       "3321082                 [excel, datatable, xml]   \n",
       "\n",
       "                                                      Body      Tags_list  \n",
       "Id                                                                         \n",
       "3321007  [net, bean, hand, android, apps, android, sdk,...      [android]  \n",
       "3321011  [gem, xl, xlsx, file, spreadsheet, parseexcel,...  [ruby, excel]  \n",
       "3321029  [serialization, deserialization, code, python,...       [python]  \n",
       "3321039  [quetions, license, application, profit, sale,...      [android]  \n",
       "3321082  [visual, studio, excel, sheet, open, xml, sdk,...           [c#]  "
      ]
     },
     "execution_count": 2,
     "metadata": {},
     "output_type": "execute_result"
    }
   ],
   "source": [
    "# Define  data\n",
    "data = pd.read_csv(\"projet5_to_modelise_final.csv\",\n",
    "                   sep=\";\", index_col=0,\n",
    "                   converters={'Title': literal_eval,\n",
    "                               'Body': literal_eval,\n",
    "                               'Tags_list': literal_eval})\n",
    "\n",
    "data.head()"
   ]
  },
  {
   "cell_type": "code",
   "execution_count": 3,
   "id": "4086738e",
   "metadata": {},
   "outputs": [],
   "source": [
    "# Rename columns\n",
    "data = data.rename(columns={'Tags_list': 'Tags'})"
   ]
  },
  {
   "cell_type": "code",
   "execution_count": 4,
   "id": "e2cd4253",
   "metadata": {},
   "outputs": [
    {
     "data": {
      "text/plain": [
       "Id\n",
       "3321007    [android, netbeans, net, bean, hand, android, ...\n",
       "3321011    [xl, xlsx, excel, file, ruby, gem, xl, xlsx, f...\n",
       "3321029    [python, inheritance, tree, run, time, seriali...\n",
       "3321039    [android, market, work, developer, quetions, l...\n",
       "3321082    [excel, datatable, xml, visual, studio, excel,...\n",
       "Name: Doc, dtype: object"
      ]
     },
     "execution_count": 4,
     "metadata": {},
     "output_type": "execute_result"
    }
   ],
   "source": [
    "data[\"Doc\"] = data[\"Title\"] + data[\"Body\"]\n",
    "data[\"Doc\"].head()"
   ]
  },
  {
   "cell_type": "code",
   "execution_count": 5,
   "id": "309a757a",
   "metadata": {},
   "outputs": [
    {
     "name": "stdout",
     "output_type": "stream",
     "text": [
      "Shape of X for Doc: (403252, 506)\n",
      "Shape of y: (403252, 100)\n"
     ]
    }
   ],
   "source": [
    "# Define X and y\n",
    "X = data[\"Doc\"]\n",
    "y = data[\"Tags\"]\n",
    "\n",
    "# Initialize the \"CountVectorizer\" TFIDF for Doc\n",
    "vectorizer = TfidfVectorizer(analyzer=\"word\",\n",
    "                             max_df=.6,\n",
    "                             min_df=0.005,\n",
    "                             tokenizer=None,\n",
    "                             preprocessor=' '.join,\n",
    "                             stop_words=None,\n",
    "                             lowercase=False)\n",
    "\n",
    "vectorizer.fit(X)\n",
    "X_tfidf = vectorizer.transform(X)\n",
    "\n",
    "print(\"Shape of X for Doc: {}\".format(X_tfidf.shape))\n",
    "\n",
    "# Multilabel binarizer for targets\n",
    "multilabel_binarizer = MultiLabelBinarizer()\n",
    "multilabel_binarizer.fit(y)\n",
    "y_binarized = multilabel_binarizer.transform(y)\n",
    "\n",
    "print(\"Shape of y: {}\".format(y_binarized.shape))\n"
   ]
  },
  {
   "cell_type": "code",
   "execution_count": 6,
   "id": "16ff57e9",
   "metadata": {},
   "outputs": [
    {
     "name": "stdout",
     "output_type": "stream",
     "text": [
      "X_train shape : (282276, 506)\n",
      "X_test shape : (120976, 506)\n",
      "y_train shape : (282276, 100)\n",
      "y_test shape : (120976, 100)\n"
     ]
    }
   ],
   "source": [
    "# Create train and test split (30%)\n",
    "X_train, X_test, y_train, y_test = train_test_split(X_tfidf, y_binarized,\n",
    "                                                    test_size=0.3, random_state=8)\n",
    "print(\"X_train shape : {}\".format(X_train.shape))\n",
    "print(\"X_test shape : {}\".format(X_test.shape))\n",
    "print(\"y_train shape : {}\".format(y_train.shape))\n",
    "print(\"y_test shape : {}\".format(y_test.shape))"
   ]
  },
  {
   "cell_type": "code",
   "execution_count": 7,
   "id": "ef1ad17f",
   "metadata": {},
   "outputs": [],
   "source": [
    "def recall_m(y_true, y_pred):\n",
    "    true_positives = K.sum(K.round(K.clip(y_true * y_pred, 0, 1)))\n",
    "    possible_positives = K.sum(K.round(K.clip(y_true, 0, 1)))\n",
    "    recall = true_positives / (possible_positives + K.epsilon())\n",
    "    return recall\n",
    "\n",
    "def precision_m(y_true, y_pred):\n",
    "    true_positives = K.sum(K.round(K.clip(y_true * y_pred, 0, 1)))\n",
    "    predicted_positives = K.sum(K.round(K.clip(y_pred, 0, 1)))\n",
    "    precision = true_positives / (predicted_positives + K.epsilon())\n",
    "    return precision\n",
    "\n",
    "def f1_m(y_true, y_pred):\n",
    "    precision = precision_m(y_true, y_pred)\n",
    "    recall = recall_m(y_true, y_pred)\n",
    "    return 2*((precision*recall)/(precision+recall+K.epsilon()))\n",
    "\n",
    "def jaccard_m(y_true, y_pred, smooth=100):\n",
    "    intersection = K.sum(K.abs(y_true * y_pred), axis=-1)\n",
    "    sum_ = K.sum(K.abs(y_true) + K.abs(y_pred), axis=-1)\n",
    "    jac = (intersection + smooth) / (sum_ - intersection + smooth)\n",
    "    return (1 - jac) * smooth"
   ]
  },
  {
   "cell_type": "code",
   "execution_count": 8,
   "id": "b2c9f2b4",
   "metadata": {},
   "outputs": [],
   "source": [
    "def build_nn(input_dim, hidden_neurons, output_dim):\n",
    "    \"\"\"\n",
    "    Construct a Keras model which will be used to \n",
    "    fit/predict in SKlearn pipeline.\n",
    "    \"\"\"\n",
    "    # Create brain\n",
    "    model = Sequential()\n",
    "    model.add(layers.Dense(hidden_neurons,\n",
    "                           input_dim=input_dim,\n",
    "                           activation='relu'))\n",
    "    model.add(layers.Dropout(0.2))\n",
    "    model.add(layers.Dense(hidden_neurons,\n",
    "                           input_dim=input_dim,\n",
    "                           activation='relu'))\n",
    "    model.add(layers.Dropout(0.1))\n",
    "    model.add(layers.Dense(output_dim,\n",
    "                           activation='sigmoid'))\n",
    "    \n",
    "    # Compile model\n",
    "    model.compile(loss='binary_crossentropy',\n",
    "              optimizer='adam',\n",
    "              metrics=['accuracy', recall_m, precision_m, f1_m, jaccard_m])\n",
    "    model.summary()\n",
    "    \n",
    "    return model"
   ]
  },
  {
   "cell_type": "code",
   "execution_count": 9,
   "id": "55da15c2",
   "metadata": {},
   "outputs": [
    {
     "name": "stdout",
     "output_type": "stream",
     "text": [
      "Model: \"sequential\"\n",
      "_________________________________________________________________\n",
      " Layer (type)                Output Shape              Param #   \n",
      "=================================================================\n",
      " dense (Dense)               (None, 150)               76050     \n",
      "                                                                 \n",
      " dropout (Dropout)           (None, 150)               0         \n",
      "                                                                 \n",
      " dense_1 (Dense)             (None, 150)               22650     \n",
      "                                                                 \n",
      " dropout_1 (Dropout)         (None, 150)               0         \n",
      "                                                                 \n",
      " dense_2 (Dense)             (None, 100)               15100     \n",
      "                                                                 \n",
      "=================================================================\n",
      "Total params: 113,800\n",
      "Trainable params: 113,800\n",
      "Non-trainable params: 0\n",
      "_________________________________________________________________\n"
     ]
    }
   ],
   "source": [
    "clear_session()\n",
    "\n",
    "model_params = {\n",
    "    'input_dim': X_train.shape[1],\n",
    "    'hidden_neurons': 150,\n",
    "    'output_dim': y_train.shape[1]}\n",
    "\n",
    "keras_model = build_nn(**model_params)"
   ]
  },
  {
   "cell_type": "code",
   "execution_count": 10,
   "id": "2cad6c2c",
   "metadata": {},
   "outputs": [],
   "source": [
    "history = keras_model.fit(X_train.toarray(), y_train,\n",
    "                          epochs=50,\n",
    "                          batch_size=256,\n",
    "                          verbose=0,\n",
    "                          validation_data=(X_test.toarray(), y_test),\n",
    "                          shuffle=True)\n"
   ]
  },
  {
   "cell_type": "code",
   "execution_count": 11,
   "id": "fb55a089",
   "metadata": {},
   "outputs": [],
   "source": [
    "# Make prediction with Keras Model\n",
    "y_test_predicted_labels_tfidf_keras = keras_model.predict(X_test.toarray())\n",
    "y_test_predicted_labels_tfidf_keras = np.where(y_test_predicted_labels_tfidf_keras >= 0.5, 1, 0)"
   ]
  },
  {
   "cell_type": "code",
   "execution_count": 12,
   "id": "b00238f7",
   "metadata": {},
   "outputs": [
    {
     "name": "stdout",
     "output_type": "stream",
     "text": [
      "--------------------------------------------------\n",
      "Print 5 first predicted Tags vs true Tags\n",
      "--------------------------------------------------\n",
      "Predicted: [('android',), (), ('haskell',), ('php',), ('android',)]\n",
      "True: [('android',), ('java',), ('haskell',), ('php',), ('android',)]\n"
     ]
    }
   ],
   "source": [
    "# Inverse transform\n",
    "y_test_pred_inversed_keras = multilabel_binarizer\\\n",
    "    .inverse_transform(y_test_predicted_labels_tfidf_keras)\n",
    "\n",
    "y_test_inversed = multilabel_binarizer\\\n",
    "    .inverse_transform(y_test)\n",
    "\n",
    "print(\"-\"*50)\n",
    "print(\"Print 5 first predicted Tags vs true Tags\")\n",
    "print(\"-\" * 50)\n",
    "print(\"Predicted:\", y_test_pred_inversed_keras[0:5])\n",
    "print(\"True:\", y_test_inversed[0:5])\n"
   ]
  },
  {
   "cell_type": "code",
   "execution_count": 13,
   "id": "7f6590ef",
   "metadata": {},
   "outputs": [
    {
     "data": {
      "text/plain": [
       "['multilabel_binarizer.pkl']"
      ]
     },
     "execution_count": 13,
     "metadata": {},
     "output_type": "execute_result"
    }
   ],
   "source": [
    "joblib.dump(keras_model, 'keras_nlp_model.pkl')\n",
    "joblib.dump(vectorizer,'tfidf_vectorizer.pkl')\n",
    "joblib.dump(multilabel_binarizer,'multilabel_binarizer.pkl')"
   ]
  }
 ],
 "metadata": {
  "kernelspec": {
   "display_name": "Python 3 (ipykernel)",
   "language": "python",
   "name": "python3"
  },
  "language_info": {
   "codemirror_mode": {
    "name": "ipython",
    "version": 3
   },
   "file_extension": ".py",
   "mimetype": "text/x-python",
   "name": "python",
   "nbconvert_exporter": "python",
   "pygments_lexer": "ipython3",
   "version": "3.8.11"
  }
 },
 "nbformat": 4,
 "nbformat_minor": 5
}
